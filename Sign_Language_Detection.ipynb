{
 "cells": [
  {
   "cell_type": "code",
   "execution_count": 1,
   "id": "96a69b80",
   "metadata": {},
   "outputs": [],
   "source": [
    "\n",
    "# Cell 1: Import necessary libraries\n",
    "import pandas as pd\n",
    "import numpy as np\n",
    "import torch\n",
    "import torch.nn as nn\n",
    "import torch.optim as optim\n",
    "from torch.utils.data import DataLoader, TensorDataset\n",
    "from sklearn.model_selection import train_test_split\n",
    "from sklearn.preprocessing import StandardScaler\n",
    "from sklearn.metrics import accuracy_score, f1_score, confusion_matrix, classification_report\n",
    "import matplotlib.pyplot as plt\n",
    "    "
   ]
  },
  {
   "cell_type": "code",
   "execution_count": 2,
   "id": "843e99d9",
   "metadata": {},
   "outputs": [],
   "source": [
    "\n",
    "# Cell 2: Load the dataset\n",
    "train_df = pd.read_csv('sign_mnist_train.csv')\n",
    "test_df = pd.read_csv('sign_mnist_test.csv')\n",
    "    "
   ]
  },
  {
   "cell_type": "code",
   "execution_count": 3,
   "id": "04452a1f",
   "metadata": {},
   "outputs": [
    {
     "name": "stdout",
     "output_type": "stream",
     "text": [
      "Training Data Shape:  (27455, 785)\n",
      "Testing Data Shape:  (7172, 785)\n"
     ]
    },
    {
     "data": {
      "text/html": [
       "<div>\n",
       "<style scoped>\n",
       "    .dataframe tbody tr th:only-of-type {\n",
       "        vertical-align: middle;\n",
       "    }\n",
       "\n",
       "    .dataframe tbody tr th {\n",
       "        vertical-align: top;\n",
       "    }\n",
       "\n",
       "    .dataframe thead th {\n",
       "        text-align: right;\n",
       "    }\n",
       "</style>\n",
       "<table border=\"1\" class=\"dataframe\">\n",
       "  <thead>\n",
       "    <tr style=\"text-align: right;\">\n",
       "      <th></th>\n",
       "      <th>label</th>\n",
       "      <th>pixel1</th>\n",
       "      <th>pixel2</th>\n",
       "      <th>pixel3</th>\n",
       "      <th>pixel4</th>\n",
       "      <th>pixel5</th>\n",
       "      <th>pixel6</th>\n",
       "      <th>pixel7</th>\n",
       "      <th>pixel8</th>\n",
       "      <th>pixel9</th>\n",
       "      <th>...</th>\n",
       "      <th>pixel775</th>\n",
       "      <th>pixel776</th>\n",
       "      <th>pixel777</th>\n",
       "      <th>pixel778</th>\n",
       "      <th>pixel779</th>\n",
       "      <th>pixel780</th>\n",
       "      <th>pixel781</th>\n",
       "      <th>pixel782</th>\n",
       "      <th>pixel783</th>\n",
       "      <th>pixel784</th>\n",
       "    </tr>\n",
       "  </thead>\n",
       "  <tbody>\n",
       "    <tr>\n",
       "      <th>0</th>\n",
       "      <td>3</td>\n",
       "      <td>107</td>\n",
       "      <td>118</td>\n",
       "      <td>127</td>\n",
       "      <td>134</td>\n",
       "      <td>139</td>\n",
       "      <td>143</td>\n",
       "      <td>146</td>\n",
       "      <td>150</td>\n",
       "      <td>153</td>\n",
       "      <td>...</td>\n",
       "      <td>207</td>\n",
       "      <td>207</td>\n",
       "      <td>207</td>\n",
       "      <td>207</td>\n",
       "      <td>206</td>\n",
       "      <td>206</td>\n",
       "      <td>206</td>\n",
       "      <td>204</td>\n",
       "      <td>203</td>\n",
       "      <td>202</td>\n",
       "    </tr>\n",
       "    <tr>\n",
       "      <th>1</th>\n",
       "      <td>6</td>\n",
       "      <td>155</td>\n",
       "      <td>157</td>\n",
       "      <td>156</td>\n",
       "      <td>156</td>\n",
       "      <td>156</td>\n",
       "      <td>157</td>\n",
       "      <td>156</td>\n",
       "      <td>158</td>\n",
       "      <td>158</td>\n",
       "      <td>...</td>\n",
       "      <td>69</td>\n",
       "      <td>149</td>\n",
       "      <td>128</td>\n",
       "      <td>87</td>\n",
       "      <td>94</td>\n",
       "      <td>163</td>\n",
       "      <td>175</td>\n",
       "      <td>103</td>\n",
       "      <td>135</td>\n",
       "      <td>149</td>\n",
       "    </tr>\n",
       "    <tr>\n",
       "      <th>2</th>\n",
       "      <td>2</td>\n",
       "      <td>187</td>\n",
       "      <td>188</td>\n",
       "      <td>188</td>\n",
       "      <td>187</td>\n",
       "      <td>187</td>\n",
       "      <td>186</td>\n",
       "      <td>187</td>\n",
       "      <td>188</td>\n",
       "      <td>187</td>\n",
       "      <td>...</td>\n",
       "      <td>202</td>\n",
       "      <td>201</td>\n",
       "      <td>200</td>\n",
       "      <td>199</td>\n",
       "      <td>198</td>\n",
       "      <td>199</td>\n",
       "      <td>198</td>\n",
       "      <td>195</td>\n",
       "      <td>194</td>\n",
       "      <td>195</td>\n",
       "    </tr>\n",
       "    <tr>\n",
       "      <th>3</th>\n",
       "      <td>2</td>\n",
       "      <td>211</td>\n",
       "      <td>211</td>\n",
       "      <td>212</td>\n",
       "      <td>212</td>\n",
       "      <td>211</td>\n",
       "      <td>210</td>\n",
       "      <td>211</td>\n",
       "      <td>210</td>\n",
       "      <td>210</td>\n",
       "      <td>...</td>\n",
       "      <td>235</td>\n",
       "      <td>234</td>\n",
       "      <td>233</td>\n",
       "      <td>231</td>\n",
       "      <td>230</td>\n",
       "      <td>226</td>\n",
       "      <td>225</td>\n",
       "      <td>222</td>\n",
       "      <td>229</td>\n",
       "      <td>163</td>\n",
       "    </tr>\n",
       "    <tr>\n",
       "      <th>4</th>\n",
       "      <td>13</td>\n",
       "      <td>164</td>\n",
       "      <td>167</td>\n",
       "      <td>170</td>\n",
       "      <td>172</td>\n",
       "      <td>176</td>\n",
       "      <td>179</td>\n",
       "      <td>180</td>\n",
       "      <td>184</td>\n",
       "      <td>185</td>\n",
       "      <td>...</td>\n",
       "      <td>92</td>\n",
       "      <td>105</td>\n",
       "      <td>105</td>\n",
       "      <td>108</td>\n",
       "      <td>133</td>\n",
       "      <td>163</td>\n",
       "      <td>157</td>\n",
       "      <td>163</td>\n",
       "      <td>164</td>\n",
       "      <td>179</td>\n",
       "    </tr>\n",
       "  </tbody>\n",
       "</table>\n",
       "<p>5 rows × 785 columns</p>\n",
       "</div>"
      ],
      "text/plain": [
       "   label  pixel1  pixel2  pixel3  pixel4  pixel5  pixel6  pixel7  pixel8  \\\n",
       "0      3     107     118     127     134     139     143     146     150   \n",
       "1      6     155     157     156     156     156     157     156     158   \n",
       "2      2     187     188     188     187     187     186     187     188   \n",
       "3      2     211     211     212     212     211     210     211     210   \n",
       "4     13     164     167     170     172     176     179     180     184   \n",
       "\n",
       "   pixel9  ...  pixel775  pixel776  pixel777  pixel778  pixel779  pixel780  \\\n",
       "0     153  ...       207       207       207       207       206       206   \n",
       "1     158  ...        69       149       128        87        94       163   \n",
       "2     187  ...       202       201       200       199       198       199   \n",
       "3     210  ...       235       234       233       231       230       226   \n",
       "4     185  ...        92       105       105       108       133       163   \n",
       "\n",
       "   pixel781  pixel782  pixel783  pixel784  \n",
       "0       206       204       203       202  \n",
       "1       175       103       135       149  \n",
       "2       198       195       194       195  \n",
       "3       225       222       229       163  \n",
       "4       157       163       164       179  \n",
       "\n",
       "[5 rows x 785 columns]"
      ]
     },
     "execution_count": 3,
     "metadata": {},
     "output_type": "execute_result"
    }
   ],
   "source": [
    "\n",
    "# Cell 3: Check the dataset\n",
    "print(\"Training Data Shape: \", train_df.shape)\n",
    "print(\"Testing Data Shape: \", test_df.shape)\n",
    "train_df.head()\n",
    "    "
   ]
  },
  {
   "cell_type": "code",
   "execution_count": 4,
   "id": "8b47384c",
   "metadata": {},
   "outputs": [],
   "source": [
    "\n",
    "# Cell 4: Separate features and labels\n",
    "X_train = train_df.iloc[:, 1:].values\n",
    "y_train = train_df.iloc[:, 0].values\n",
    "X_test = test_df.iloc[:, 1:].values\n",
    "y_test = test_df.iloc[:, 0].values\n",
    "    "
   ]
  },
  {
   "cell_type": "code",
   "execution_count": 5,
   "id": "2a925935",
   "metadata": {},
   "outputs": [],
   "source": [
    "\n",
    "# Cell 5: Adjust labels to be in range 0-23 (since we have 24 classes)\n",
    "y_train = np.where(y_train > 8, y_train - 1, y_train)\n",
    "y_test = np.where(y_test > 8, y_test - 1, y_test)\n",
    "    "
   ]
  },
  {
   "cell_type": "code",
   "execution_count": 6,
   "id": "f3176f63",
   "metadata": {},
   "outputs": [],
   "source": [
    "\n",
    "# Cell 6: Normalize the pixel values\n",
    "scaler = StandardScaler()\n",
    "X_train = scaler.fit_transform(X_train)\n",
    "X_test = scaler.transform(X_test)\n",
    "    "
   ]
  },
  {
   "cell_type": "code",
   "execution_count": 7,
   "id": "7d8a5048",
   "metadata": {},
   "outputs": [],
   "source": [
    "\n",
    "# Cell 7: Convert data to PyTorch tensors\n",
    "X_train_tensor = torch.tensor(X_train, dtype=torch.float32)\n",
    "y_train_tensor = torch.tensor(y_train, dtype=torch.long)\n",
    "X_test_tensor = torch.tensor(X_test, dtype=torch.float32)\n",
    "y_test_tensor = torch.tensor(y_test, dtype=torch.long)\n",
    "    "
   ]
  },
  {
   "cell_type": "code",
   "execution_count": 8,
   "id": "85531272",
   "metadata": {},
   "outputs": [],
   "source": [
    "\n",
    "# Cell 8: Create DataLoader for training and testing\n",
    "batch_size = 64\n",
    "train_dataset = TensorDataset(X_train_tensor, y_train_tensor)\n",
    "test_dataset = TensorDataset(X_test_tensor, y_test_tensor)\n",
    "\n",
    "train_loader = DataLoader(train_dataset, batch_size=batch_size, shuffle=True)\n",
    "test_loader = DataLoader(test_dataset, batch_size=batch_size, shuffle=False)\n",
    "    "
   ]
  },
  {
   "cell_type": "code",
   "execution_count": 9,
   "id": "1714664d",
   "metadata": {},
   "outputs": [
    {
     "data": {
      "image/png": "[encoded data removed]",
      "text/plain": [
       "<Figure size 720x720 with 10 Axes>"
      ]
     },
     "metadata": {
      "needs_background": "light"
     },
     "output_type": "display_data"
    }
   ],
   "source": [
    "\n",
    "# Cell 9: Plot some sample images from the dataset\n",
    "def plot_sample_images(X, y, n=10):\n",
    "    plt.figure(figsize=(10, 10))\n",
    "    for i in range(n):\n",
    "        plt.subplot(1, n, i+1)\n",
    "        plt.imshow(X[i].reshape(28, 28), cmap='gray')\n",
    "        plt.title(f\"Label: {y[i]}\")\n",
    "        plt.axis('off')\n",
    "    plt.show()\n",
    "\n",
    "plot_sample_images(X_train, y_train)\n",
    "    "
   ]
  },
  {
   "cell_type": "code",
   "execution_count": 10,
   "id": "aa2c0d73",
   "metadata": {},
   "outputs": [],
   "source": [
    "\n",
    "# Cell 10: Define the ANN model\n",
    "class ANN_Model(nn.Module):\n",
    "    def __init__(self):\n",
    "        super(ANN_Model, self).__init__()\n",
    "        self.layer1 = nn.Linear(784, 512)\n",
    "        self.layer2 = nn.Linear(512, 256)\n",
    "        self.layer3 = nn.Linear(256, 128)\n",
    "        self.layer4 = nn.Linear(128, 24)\n",
    "        self.relu = nn.ReLU()\n",
    "        self.dropout = nn.Dropout(0.2)\n",
    "\n",
    "    def forward(self, x):\n",
    "        x = self.relu(self.layer1(x))\n",
    "        x = self.dropout(x)\n",
    "        x = self.relu(self.layer2(x))\n",
    "        x = self.dropout(x)\n",
    "        x = self.relu(self.layer3(x))\n",
    "        x = self.layer4(x)\n",
    "        return x\n",
    "\n",
    "# Instantiate the model\n",
    "model = ANN_Model()\n",
    "    "
   ]
  },
  {
   "cell_type": "code",
   "execution_count": 11,
   "id": "61d04019",
   "metadata": {},
   "outputs": [],
   "source": [
    "\n",
    "# Cell 11: Define loss function and optimizer\n",
    "criterion = nn.CrossEntropyLoss()\n",
    "optimizer = optim.Adam(model.parameters(), lr=0.001)\n",
    "    "
   ]
  },
  {
   "cell_type": "code",
   "execution_count": 12,
   "id": "438c7885",
   "metadata": {},
   "outputs": [
    {
     "name": "stdout",
     "output_type": "stream",
     "text": [
      "Epoch 1/30, Train Loss: 0.8118683969233792, Train Accuracy: 0.740621016208341, Valid Loss: 0.12737534442093484, Valid Accuracy: 0.9597523219814241\n",
      "Epoch 2/30, Train Loss: 0.12367874660345098, Train Accuracy: 0.9608905481697323, Valid Loss: 0.06331319532487108, Valid Accuracy: 0.9812420324166818\n",
      "Epoch 3/30, Train Loss: 0.08102503065073993, Train Accuracy: 0.9754598433800765, Valid Loss: 0.016017329042539174, Valid Accuracy: 0.9950828628665088\n",
      "Epoch 4/30, Train Loss: 0.0629770518937094, Train Accuracy: 0.982243671462393, Valid Loss: 0.025832567020146132, Valid Accuracy: 0.99216900382444\n",
      "Epoch 5/30, Train Loss: 0.04216665815532229, Train Accuracy: 0.9875250409761428, Valid Loss: 0.004876743257248795, Valid Accuracy: 0.9989073028592241\n",
      "Epoch 6/30, Train Loss: 0.06272966156495047, Train Accuracy: 0.9814241486068112, Valid Loss: 0.010769359499749425, Valid Accuracy: 0.9956292114368968\n",
      "Epoch 7/30, Train Loss: 0.059325953059331284, Train Accuracy: 0.9829721362229102, Valid Loss: 0.003891253793310255, Valid Accuracy: 0.9989073028592241\n",
      "Epoch 8/30, Train Loss: 0.020865259189651073, Train Accuracy: 0.993853578583136, Valid Loss: 0.00701530977189683, Valid Accuracy: 0.9978146057184484\n",
      "Epoch 9/30, Train Loss: 0.052071580951315956, Train Accuracy: 0.9851120014569296, Valid Loss: 0.016882706156413702, Valid Accuracy: 0.9941722819158623\n",
      "Epoch 10/30, Train Loss: 0.043588517365733, Train Accuracy: 0.9874339828810781, Valid Loss: 0.010981776652675593, Valid Accuracy: 0.996357676197414\n",
      "Epoch 11/30, Train Loss: 0.043359564356846084, Train Accuracy: 0.9884811509743217, Valid Loss: 0.01712761123954531, Valid Accuracy: 0.9939901657257331\n",
      "Epoch 12/30, Train Loss: 0.024573381293891524, Train Accuracy: 0.9927608814423602, Valid Loss: 0.0031864692206253556, Valid Accuracy: 0.9992715352394828\n",
      "Epoch 13/30, Train Loss: 0.0540555409146543, Train Accuracy: 0.9846111819340739, Valid Loss: 0.004132783486141328, Valid Accuracy: 0.9987251866690949\n",
      "Epoch 14/30, Train Loss: 0.013747937415868572, Train Accuracy: 0.9958568566745584, Valid Loss: 0.015506111795116868, Valid Accuracy: 0.9950828628665088\n",
      "Epoch 15/30, Train Loss: 0.045433549288863194, Train Accuracy: 0.9881624476415953, Valid Loss: 0.05251413784584614, Valid Accuracy: 0.9907120743034056\n",
      "Epoch 16/30, Train Loss: 0.05182573458651584, Train Accuracy: 0.98629575669277, Valid Loss: 0.0075513994311116875, Valid Accuracy: 0.9970861409579311\n",
      "Epoch 17/30, Train Loss: 0.04329606257047195, Train Accuracy: 0.9893462028774358, Valid Loss: 0.005567876210333516, Valid Accuracy: 0.9987251866690949\n",
      "Epoch 18/30, Train Loss: 0.04079121561672701, Train Accuracy: 0.9884811509743217, Valid Loss: 0.004279480866306437, Valid Accuracy: 0.9989073028592241\n",
      "Epoch 19/30, Train Loss: 0.01953044794925195, Train Accuracy: 0.9949462757239118, Valid Loss: 0.001268949586912064, Valid Accuracy: 0.9996357676197414\n",
      "Epoch 20/30, Train Loss: 0.027897096120849587, Train Accuracy: 0.9931706428701511, Valid Loss: 0.0014035432744829576, Valid Accuracy: 0.9998178838098707\n",
      "Epoch 21/30, Train Loss: 0.03487198197136993, Train Accuracy: 0.9920779457293754, Valid Loss: 0.0045759682316413594, Valid Accuracy: 0.9985430704789656\n",
      "Epoch 22/30, Train Loss: 0.037706326021884444, Train Accuracy: 0.9909852485885995, Valid Loss: 0.006867502259318149, Valid Accuracy: 0.9978146057184484\n",
      "Epoch 23/30, Train Loss: 0.02263576475097312, Train Accuracy: 0.9949007466763795, Valid Loss: 0.0014841269425666492, Valid Accuracy: 0.9994536514296121\n",
      "Epoch 24/30, Train Loss: 0.033889033127908016, Train Accuracy: 0.9916226552540521, Valid Loss: 0.0055402406268127, Valid Accuracy: 0.9976324895283191\n",
      "Epoch 25/30, Train Loss: 0.027340248775833596, Train Accuracy: 0.9928974685849572, Valid Loss: 0.006709751519264141, Valid Accuracy: 0.9985430704789656\n",
      "Epoch 26/30, Train Loss: 0.026126392863445983, Train Accuracy: 0.9928519395374249, Valid Loss: 0.0006714376781479418, Valid Accuracy: 0.9996357676197414\n",
      "Epoch 27/30, Train Loss: 0.021940276227135173, Train Accuracy: 0.9945365142961209, Valid Loss: 0.013172102321965043, Valid Accuracy: 0.9949007466763795\n",
      "Epoch 28/30, Train Loss: 0.051677614298154005, Train Accuracy: 0.9891185576397742, Valid Loss: 0.004307592865030148, Valid Accuracy: 0.9983609542888363\n",
      "Epoch 29/30, Train Loss: 0.04196463149430048, Train Accuracy: 0.9901657257330176, Valid Loss: 0.014750838291925627, Valid Accuracy: 0.9943543981059916\n",
      "Epoch 30/30, Train Loss: 0.015461223350427107, Train Accuracy: 0.9958113276270261, Valid Loss: 0.0044313674843689775, Valid Accuracy: 0.9987251866690949\n"
     ]
    }
   ],
   "source": [
    "\n",
    "# Cell 12: Training the model with validation\n",
    "epochs = 30\n",
    "train_losses = []\n",
    "valid_losses = []\n",
    "train_accuracies = []\n",
    "valid_accuracies = []\n",
    "\n",
    "# Split the training set into training and validation sets\n",
    "X_train_part, X_valid_part, y_train_part, y_valid_part = train_test_split(X_train_tensor, y_train_tensor, test_size=0.2, random_state=42)\n",
    "\n",
    "train_dataset_part = TensorDataset(X_train_part, y_train_part)\n",
    "valid_dataset_part = TensorDataset(X_valid_part, y_valid_part)\n",
    "\n",
    "train_loader_part = DataLoader(train_dataset_part, batch_size=batch_size, shuffle=True)\n",
    "valid_loader_part = DataLoader(valid_dataset_part, batch_size=batch_size, shuffle=False)\n",
    "\n",
    "for epoch in range(epochs):\n",
    "    model.train()\n",
    "    running_loss = 0.0\n",
    "    correct = 0\n",
    "    total = 0\n",
    "    \n",
    "    for inputs, labels in train_loader_part:\n",
    "        optimizer.zero_grad()\n",
    "        outputs = model(inputs)\n",
    "        loss = criterion(outputs, labels)\n",
    "        loss.backward()\n",
    "        optimizer.step()\n",
    "        running_loss += loss.item()\n",
    "        \n",
    "        _, predicted = torch.max(outputs.data, 1)\n",
    "        total += labels.size(0)\n",
    "        correct += (predicted == labels).sum().item()\n",
    "    \n",
    "    train_loss = running_loss / len(train_loader_part)\n",
    "    train_accuracy = correct / total\n",
    "    train_losses.append(train_loss)\n",
    "    train_accuracies.append(train_accuracy)\n",
    "    \n",
    "    model.eval()\n",
    "    running_loss = 0.0\n",
    "    correct = 0\n",
    "    total = 0\n",
    "    \n",
    "    with torch.no_grad():\n",
    "        for inputs, labels in valid_loader_part:\n",
    "            outputs = model(inputs)\n",
    "            loss = criterion(outputs, labels)\n",
    "            running_loss += loss.item()\n",
    "            \n",
    "            _, predicted = torch.max(outputs.data, 1)\n",
    "            total += labels.size(0)\n",
    "            correct += (predicted == labels).sum().item()\n",
    "    \n",
    "    valid_loss = running_loss / len(valid_loader_part)\n",
    "    valid_accuracy = correct / total\n",
    "    valid_losses.append(valid_loss)\n",
    "    valid_accuracies.append(valid_accuracy)\n",
    "    \n",
    "    print(f\"Epoch {epoch+1}/{epochs}, Train Loss: {train_loss}, Train Accuracy: {train_accuracy}, Valid Loss: {valid_loss}, Valid Accuracy: {valid_accuracy}\")\n",
    "    "
   ]
  },
  {
   "cell_type": "code",
   "execution_count": 13,
   "id": "fc832711",
   "metadata": {},
   "outputs": [
    {
     "data": {
      "image/png": "[encoded data removed]",
      "text/plain": [
       "<Figure size 720x360 with 1 Axes>"
      ]
     },
     "metadata": {
      "needs_background": "light"
     },
     "output_type": "display_data"
    }
   ],
   "source": [
    "\n",
    "# Cell 13: Plot the training and validation loss\n",
    "plt.figure(figsize=(10, 5))\n",
    "plt.plot(range(1, epochs+1), train_losses, label='Training Loss')\n",
    "plt.plot(range(1, epochs+1), valid_losses, label='Validation Loss')\n",
    "plt.xlabel('Epochs')\n",
    "plt.ylabel('Loss')\n",
    "plt.legend()\n",
    "plt.title('Training and Validation Loss')\n",
    "plt.show()\n",
    "    "
   ]
  },
  {
   "cell_type": "code",
   "execution_count": 14,
   "id": "2c839e89",
   "metadata": {},
   "outputs": [
    {
     "data": {
      "image/png": "[encoded data removed]",
      "text/plain": [
       "<Figure size 720x360 with 1 Axes>"
      ]
     },
     "metadata": {
      "needs_background": "light"
     },
     "output_type": "display_data"
    }
   ],
   "source": [
    "\n",
    "# Cell 14: Plot the training and validation accuracy\n",
    "plt.figure(figsize=(10, 5))\n",
    "plt.plot(range(1, epochs+1), train_accuracies, label='Training Accuracy')\n",
    "plt.plot(range(1, epochs+1), valid_accuracies, label='Validation Accuracy')\n",
    "plt.xlabel('Epochs')\n",
    "plt.ylabel('Accuracy')\n",
    "plt.legend()\n",
    "plt.title('Training and Validation Accuracy')\n",
    "plt.show()\n",
    "    "
   ]
  },
  {
   "cell_type": "code",
   "execution_count": 15,
   "id": "eea60dd9",
   "metadata": {},
   "outputs": [],
   "source": [
    "\n",
    "# Cell 15: Evaluate the model on the test set\n",
    "model.eval()\n",
    "y_pred = []\n",
    "y_true = []\n",
    "with torch.no_grad():\n",
    "    for inputs, labels in test_loader:\n",
    "        outputs = model(inputs)\n",
    "        _, predicted = torch.max(outputs, 1)\n",
    "        y_pred.extend(predicted.numpy())\n",
    "        y_true.extend(labels.numpy())\n",
    "    "
   ]
  },
  {
   "cell_type": "code",
   "execution_count": 16,
   "id": "75113ffc",
   "metadata": {},
   "outputs": [
    {
     "name": "stdout",
     "output_type": "stream",
     "text": [
      "Accuracy: 0.8258505298382599\n",
      "F1 Score: 0.8261733647405214\n"
     ]
    }
   ],
   "source": [
    "\n",
    "# Cell 16: Calculate accuracy and F1-score\n",
    "accuracy = accuracy_score(y_true, y_pred)\n",
    "f1 = f1_score(y_true, y_pred, average='weighted')\n",
    "print(f\"Accuracy: {accuracy}\")\n",
    "print(f\"F1 Score: {f1}\")\n",
    "    "
   ]
  },
  {
   "cell_type": "code",
   "execution_count": 17,
   "id": "795ab6ed",
   "metadata": {},
   "outputs": [
    {
     "name": "stdout",
     "output_type": "stream",
     "text": [
      "              precision    recall  f1-score   support\n",
      "\n",
      "           0       0.81      1.00      0.89       331\n",
      "           1       0.96      0.97      0.97       432\n",
      "           2       1.00      0.87      0.93       310\n",
      "           3       1.00      0.99      0.99       245\n",
      "           4       0.93      0.92      0.93       498\n",
      "           5       0.78      1.00      0.88       247\n",
      "           6       0.86      0.68      0.76       348\n",
      "           7       0.92      0.90      0.91       436\n",
      "           8       0.90      0.68      0.78       288\n",
      "           9       0.73      0.82      0.77       331\n",
      "          10       0.89      1.00      0.94       209\n",
      "          11       0.77      0.76      0.76       394\n",
      "          12       0.88      0.55      0.68       291\n",
      "          13       0.92      0.90      0.91       246\n",
      "          14       1.00      1.00      1.00       347\n",
      "          15       0.70      1.00      0.82       164\n",
      "          16       0.37      0.67      0.48       144\n",
      "          17       0.63      0.70      0.67       246\n",
      "          18       0.60      0.65      0.63       248\n",
      "          19       0.70      0.76      0.73       266\n",
      "          20       1.00      0.56      0.72       346\n",
      "          21       0.70      0.89      0.79       206\n",
      "          22       0.78      0.83      0.80       267\n",
      "          23       0.86      0.69      0.77       332\n",
      "\n",
      "    accuracy                           0.83      7172\n",
      "   macro avg       0.82      0.82      0.81      7172\n",
      "weighted avg       0.85      0.83      0.83      7172\n",
      "\n"
     ]
    }
   ],
   "source": [
    "\n",
    "# Cell 18: Display the classification report\n",
    "class_report = classification_report(y_true, y_pred)\n",
    "print(class_report)\n",
    "    "
   ]
  },
  {
   "cell_type": "code",
   "execution_count": null,
   "id": "986cfb35",
   "metadata": {},
   "outputs": [],
   "source": []
  }
 ],
 "metadata": {
  "kernelspec": {
   "display_name": "Python 3 (ipykernel)",
   "language": "python",
   "name": "python3"
  },
  "language_info": {
   "codemirror_mode": {
    "name": "ipython",
    "version": 3
   },
   "file_extension": ".py",
   "mimetype": "text/x-python",
   "name": "python",
   "nbconvert_exporter": "python",
   "pygments_lexer": "ipython3",
   "version": "3.9.12"
  }
 },
 "nbformat": 4,
 "nbformat_minor": 5
}
